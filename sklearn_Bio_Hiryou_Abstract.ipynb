from sklearn.feature_extraction.text import TfidfVectorizer
from google.colab import drive
drive.mount('/content/drive')

cd /content/drive/My Drive/bio_micro_01/

input_path = './Bio_Hiryou_abstract.txt'

#f = open(input_path, mode='r', encoding='CP932')
with open(input_path,mode='r', encoding='CP932') as f:
  
  txt = f.read()
  
source_list = [x for x in txt.split("\n") if x != ""]  #https://www.haya-programming.com/entry/2018/02/25/044525
  #print(f.read())
  
  
  
  #f.close() 


#sckitlearnよりCountVectorizerをインポートする
from sklearn.feature_extraction.text import CountVectorizer

#CountVectorizerの実行
vectorizer = CountVectorizer(input=f)

#抽出した単語を確認する
matrix = vectorizer.fit_transform(source_list)  #https://investigate.ai/text-analysis/counting-words-with-scikit-learns-countvectorizer/

#単語の数を求めてみる #https://investigate.ai/text-analysis/counting-words-with-scikit-learns-countvectorizer/
matrix = vectorizer.fit_transform([txt])
matrix

matrix.toarray() #https://investigate.ai/text-analysis/counting-words-with-scikit-learns-countvectorizer/

import pandas as pd

counts = pd.DataFrame(matrix.toarray(),
                      columns=vectorizer.get_feature_names())
counts

counts.T.sort_values(by=0, ascending=False).head(1500)
